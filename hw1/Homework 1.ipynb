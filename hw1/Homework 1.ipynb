{
 "cells": [
  {
   "cell_type": "markdown",
   "metadata": {
    "collapsed": true
   },
   "source": [
    "Luiz Carlos Irber Jr\n",
    "\n",
    "ECS 253 - Network Theory\n",
    "\n",
    "UC Davis"
   ]
  },
  {
   "cell_type": "code",
   "execution_count": 1,
   "metadata": {
    "collapsed": false
   },
   "outputs": [],
   "source": [
    "%matplotlib inline\n",
    "import numpy.linalg as LA\n",
    "import numpy as np\n",
    "\n",
    "import networkx as nx\n",
    "\n",
    "MAX_ITERS = 1000"
   ]
  },
  {
   "cell_type": "markdown",
   "metadata": {},
   "source": [
    "# Question 1"
   ]
  },
  {
   "cell_type": "markdown",
   "metadata": {},
   "source": [
    "## a\n",
    "\n",
    "Adjacency matrix:"
   ]
  },
  {
   "cell_type": "code",
   "execution_count": 2,
   "metadata": {
    "collapsed": false
   },
   "outputs": [
    {
     "data": {
      "text/plain": [
       "array([[ 0.,  0.,  1.,  0.,  0.],\n",
       "       [ 1.,  0.,  0.,  1.,  0.],\n",
       "       [ 0.,  1.,  0.,  1.,  0.],\n",
       "       [ 0.,  0.,  1.,  0.,  0.],\n",
       "       [ 1.,  0.,  1.,  0.,  0.]])"
      ]
     },
     "execution_count": 2,
     "metadata": {},
     "output_type": "execute_result"
    }
   ],
   "source": [
    "directed = np.array([\n",
    "    [0, 0, 1, 0, 0],\n",
    "    [1, 0, 0, 1, 0],\n",
    "    [0, 1, 0, 1, 0],\n",
    "    [0, 0, 1, 0, 0],\n",
    "    [1, 0, 1, 0, 0]], dtype='d')\n",
    "directed"
   ]
  },
  {
   "cell_type": "markdown",
   "metadata": {},
   "source": [
    "Using networkx to draw the graph:"
   ]
  },
  {
   "cell_type": "code",
   "execution_count": 3,
   "metadata": {
    "collapsed": false
   },
   "outputs": [
    {
     "data": {
      "image/png": "[encoded data removed]",
      "text/plain": [
       "<matplotlib.figure.Figure at 0x7f81421c1198>"
      ]
     },
     "metadata": {},
     "output_type": "display_data"
    }
   ],
   "source": [
    "d = nx.DiGraph(directed)\n",
    "pos = nx.circular_layout(d)\n",
    "nx.draw(d, pos=pos)\n",
    "labels = nx.draw_networkx_labels(d, pos=pos)"
   ]
  },
  {
   "cell_type": "markdown",
   "metadata": {},
   "source": [
    "## b\n",
    "\n",
    "Define a function to calculate the transition matrix (each row sums to 1)"
   ]
  },
  {
   "cell_type": "code",
   "execution_count": 4,
   "metadata": {
    "collapsed": true
   },
   "outputs": [],
   "source": [
    "def transition(m):\n",
    "    rowsum = np.sum(m, axis=1)\n",
    "    rowsum[np.where(rowsum == 0)] = 1\n",
    "    return m / rowsum[:,None]"
   ]
  },
  {
   "cell_type": "markdown",
   "metadata": {},
   "source": [
    "Calculate the transition matrix $p_d$ for the directed graph:"
   ]
  },
  {
   "cell_type": "code",
   "execution_count": 5,
   "metadata": {
    "collapsed": false
   },
   "outputs": [
    {
     "data": {
      "text/plain": [
       "array([[ 0. ,  0. ,  1. ,  0. ,  0. ],\n",
       "       [ 0.5,  0. ,  0. ,  0.5,  0. ],\n",
       "       [ 0. ,  0.5,  0. ,  0.5,  0. ],\n",
       "       [ 0. ,  0. ,  1. ,  0. ,  0. ],\n",
       "       [ 0.5,  0. ,  0.5,  0. ,  0. ]])"
      ]
     },
     "execution_count": 5,
     "metadata": {},
     "output_type": "execute_result"
    }
   ],
   "source": [
    "p_d = transition(directed)\n",
    "p_d"
   ]
  },
  {
   "cell_type": "markdown",
   "metadata": {},
   "source": [
    "Three methods for calculating the steady-state probability:\n",
    "\n",
    "- `stn`: Solve the linear system\n",
    "- `stn_mult`: use matrix multiplication to the _niters_ power (using $\\lceil \\log_2{niters} \\rceil$ iterations)\n",
    "- `simulate_steady`: simulate a random walk _nsteps_ long. If a vertex doesn't have any edge pointing to another vertex, select a random vertex to continue the walk.\n",
    "\n",
    "I implemented three different methods to check if their results agree with each other."
   ]
  },
  {
   "cell_type": "code",
   "execution_count": 6,
   "metadata": {
    "collapsed": true
   },
   "outputs": [],
   "source": [
    "def stn(p):\n",
    "    n = p.shape[0]\n",
    "    imp = np.eye(n) - p.transpose()\n",
    "    imp[-1] = np.ones(n)\n",
    "    rhs = np.zeros(n)\n",
    "    rhs[-1] = 1\n",
    "    return np.linalg.solve(imp, rhs)\n",
    "\n",
    "\n",
    "def stn_mult(p, niters=MAX_ITERS):\n",
    "    d = p @ p\n",
    "    for i in range(int(np.ceil(np.log2(niters)))):\n",
    "        d = d @ p\n",
    "    return np.mean(d, axis=0)\n",
    "\n",
    "\n",
    "def simulate_steady(p, nsteps=MAX_ITERS):\n",
    "    n = p.shape[0]\n",
    "    visits = np.zeros(n)\n",
    "    next_node = np.random.choice(range(n))\n",
    "    for i in range(nsteps):\n",
    "        possible_nodes = np.where(p[next_node] != 0)[0]\n",
    "        next_node = None\n",
    "        if possible_nodes.size:  # check if possible_nodes is not empty\n",
    "            next_node = np.random.choice(possible_nodes)\n",
    "\n",
    "        if next_node is None:\n",
    "            next_node = np.random.choice(range(n))\n",
    "        else:\n",
    "            visits[next_node] += 1\n",
    "\n",
    "    return np.round(visits / nsteps, 3)"
   ]
  },
  {
   "cell_type": "code",
   "execution_count": 7,
   "metadata": {
    "collapsed": false
   },
   "outputs": [
    {
     "data": {
      "text/plain": [
       "array([ 0.1,  0.2,  0.4,  0.3, -0. ])"
      ]
     },
     "execution_count": 7,
     "metadata": {},
     "output_type": "execute_result"
    }
   ],
   "source": [
    "stn(p_d)"
   ]
  },
  {
   "cell_type": "code",
   "execution_count": 8,
   "metadata": {
    "collapsed": false
   },
   "outputs": [
    {
     "data": {
      "text/plain": [
       "(array([ 0.099763,  0.199721,  0.400188,  0.300328,  0.      ]),\n",
       " 0.999999999999999)"
      ]
     },
     "execution_count": 8,
     "metadata": {},
     "output_type": "execute_result"
    }
   ],
   "source": [
    "sols = []\n",
    "for i in range(1000):\n",
    "    sols.append(simulate_steady(p_d, 1000))\n",
    "av = np.mean(sols, axis=0)\n",
    "av, sum(av)"
   ]
  },
  {
   "cell_type": "code",
   "execution_count": 9,
   "metadata": {
    "collapsed": false
   },
   "outputs": [
    {
     "data": {
      "text/plain": [
       "array([ 0.1      ,  0.1984375,  0.403125 ,  0.2984375,  0.       ])"
      ]
     },
     "execution_count": 9,
     "metadata": {},
     "output_type": "execute_result"
    }
   ],
   "source": [
    "stn_mult(p_d)"
   ]
  },
  {
   "cell_type": "markdown",
   "metadata": {},
   "source": [
    "The steady-state probability is:\n",
    "\n",
    "$[0.1, 0.2, 0.4, 0.3, 0]$"
   ]
  },
  {
   "cell_type": "markdown",
   "metadata": {},
   "source": [
    "## c\n",
    "\n",
    "Adjacency matrix and transition matrix $p_u$:"
   ]
  },
  {
   "cell_type": "code",
   "execution_count": 10,
   "metadata": {
    "collapsed": false
   },
   "outputs": [
    {
     "data": {
      "text/plain": [
       "array([[ 0.        ,  0.33333333,  0.33333333,  0.        ,  0.33333333],\n",
       "       [ 0.33333333,  0.        ,  0.33333333,  0.33333333,  0.        ],\n",
       "       [ 0.25      ,  0.25      ,  0.        ,  0.25      ,  0.25      ],\n",
       "       [ 0.        ,  0.5       ,  0.5       ,  0.        ,  0.        ],\n",
       "       [ 0.5       ,  0.        ,  0.5       ,  0.        ,  0.        ]])"
      ]
     },
     "execution_count": 10,
     "metadata": {},
     "output_type": "execute_result"
    }
   ],
   "source": [
    "undirected = np.array([\n",
    "    [0, 1, 1, 0, 1],\n",
    "    [1, 0, 1, 1, 0],\n",
    "    [1, 1, 0, 1, 1],\n",
    "    [0, 1, 1, 0, 0],\n",
    "    [1, 0, 1, 0, 0]], dtype='d')\n",
    "\n",
    "p_u = transition(undirected)\n",
    "p_u"
   ]
  },
  {
   "cell_type": "markdown",
   "metadata": {},
   "source": [
    "Using networkx to draw the graph:"
   ]
  },
  {
   "cell_type": "code",
   "execution_count": 11,
   "metadata": {
    "collapsed": false
   },
   "outputs": [
    {
     "data": {
      "image/png": "[encoded data removed]",
      "text/plain": [
       "<matplotlib.figure.Figure at 0x7f8174f8c588>"
      ]
     },
     "metadata": {},
     "output_type": "display_data"
    }
   ],
   "source": [
    "und = nx.Graph(undirected)\n",
    "pos = nx.circular_layout(und)\n",
    "nx.draw(und, pos=pos)\n",
    "labels = nx.draw_networkx_labels(und, pos=pos)"
   ]
  },
  {
   "cell_type": "markdown",
   "metadata": {},
   "source": [
    "Using the same three methods as before:"
   ]
  },
  {
   "cell_type": "code",
   "execution_count": 12,
   "metadata": {
    "collapsed": false
   },
   "outputs": [
    {
     "data": {
      "text/plain": [
       "array([ 0.21428571,  0.21428571,  0.28571429,  0.14285714,  0.14285714])"
      ]
     },
     "execution_count": 12,
     "metadata": {},
     "output_type": "execute_result"
    }
   ],
   "source": [
    "stn(p_u)"
   ]
  },
  {
   "cell_type": "code",
   "execution_count": 13,
   "metadata": {
    "collapsed": false
   },
   "outputs": [
    {
     "data": {
      "text/plain": [
       "(array([ 0.214491,  0.214342,  0.285529,  0.1429  ,  0.142738]),\n",
       " 1.0000000000000011)"
      ]
     },
     "execution_count": 13,
     "metadata": {},
     "output_type": "execute_result"
    }
   ],
   "source": [
    "sols = []\n",
    "for i in range(1000):\n",
    "    sols.append(simulate_steady(p_u, 1000))\n",
    "av = np.mean(sols, axis=0)\n",
    "av, sum(av)"
   ]
  },
  {
   "cell_type": "code",
   "execution_count": 14,
   "metadata": {
    "collapsed": false
   },
   "outputs": [
    {
     "data": {
      "text/plain": [
       "array([ 0.21428571,  0.21428571,  0.28568987,  0.14286935,  0.14286935])"
      ]
     },
     "execution_count": 14,
     "metadata": {},
     "output_type": "execute_result"
    }
   ],
   "source": [
    "stn_mult(p_u, 1000)"
   ]
  },
  {
   "cell_type": "markdown",
   "metadata": {},
   "source": [
    "The steady-state probability is different, and proportional to the degree of the node (nodes $1$ and $2$ have degree 3, $4$ and $5$ have degree 2, $3$ has degree 4):\n",
    "\n",
    "$[0.214, 0.214, 0.286, 0.143, 0.143]$"
   ]
  },
  {
   "cell_type": "markdown",
   "metadata": {},
   "source": [
    "# Question 2\n",
    "\n",
    "## a"
   ]
  },
  {
   "cell_type": "markdown",
   "metadata": {
    "collapsed": true
   },
   "source": [
    "$k=1: n_{1, t+1} = n_{1,t} + 1 - \\frac{1}{t}n_{1,t}$\n",
    "\n",
    "$k>1: n_{k, t+1} = n_{k, t} + \\frac{1}{t}n_{k-1,t} - \\frac{1}{t}n_{k,t}$"
   ]
  },
  {
   "cell_type": "markdown",
   "metadata": {},
   "source": [
    "## b"
   ]
  },
  {
   "cell_type": "markdown",
   "metadata": {
    "collapsed": true
   },
   "source": [
    "$k=1: (t+1)p_{1,t+1} = (t-1)p_{1,t} + 1$\n",
    "\n",
    "$k>1: (t+1)p_{k,t+1}=(t-1)p_{k,t} + p_{k-1,t}$"
   ]
  },
  {
   "cell_type": "markdown",
   "metadata": {},
   "source": [
    "## c"
   ]
  },
  {
   "cell_type": "markdown",
   "metadata": {
    "collapsed": true
   },
   "source": [
    "**For k=1:**\n",
    "\n",
    "$(t+1)p_1 = (t-1)p_1 + 1$\n",
    "\n",
    "$p_1 = \\frac{1}{2}$\n",
    "\n",
    "**For k > 1**\n",
    "\n",
    "$(t+1)p_k = (t-1)p_k + p_{k-1}$\n",
    "\n",
    "$2p_k = p_{k-1}$\n",
    "\n",
    "$p_k = \\frac{p_{k-1}}{2}$"
   ]
  },
  {
   "cell_type": "markdown",
   "metadata": {},
   "source": [
    "## d"
   ]
  },
  {
   "cell_type": "markdown",
   "metadata": {
    "collapsed": true
   },
   "source": [
    "$p_1 = \\frac{1}{2}$\n",
    "\n",
    "$p_2 = \\frac{p_1}{2} = \\frac{1}{4}$\n",
    "\n",
    "$p_3 = \\frac{p_2}{2} = \\frac{1}{8}$\n",
    "\n",
    "$p_k = \\frac{1}{2^k} = 2^{-k}$"
   ]
  }
 ],
 "metadata": {
  "kernelspec": {
   "display_name": "Python 3",
   "language": "python",
   "name": "python3"
  },
  "language_info": {
   "codemirror_mode": {
    "name": "ipython",
    "version": 3
   },
   "file_extension": ".py",
   "mimetype": "text/x-python",
   "name": "python",
   "nbconvert_exporter": "python",
   "pygments_lexer": "ipython3",
   "version": "3.5.1"
  }
 },
 "nbformat": 4,
 "nbformat_minor": 0
}
