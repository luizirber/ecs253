{
 "cells": [
  {
   "cell_type": "markdown",
   "metadata": {
    "collapsed": true
   },
   "source": [
    "**Luiz Carlos Irber Jr**\n",
    "\n",
    "ECS 253 - Network Theory\n",
    "\n",
    "UC Davis\n",
    "\n",
    "This document is available online at\n",
    "\n",
    "https://github.com/luizirber/ecs253/blob/master/hw3/Homework%203.ipynb"
   ]
  },
  {
   "cell_type": "code",
   "execution_count": 1,
   "metadata": {
    "collapsed": false
   },
   "outputs": [],
   "source": [
    "%matplotlib inline\n",
    "\n",
    "import matplotlib\n",
    "import matplotlib.pyplot as plt\n",
    "import seaborn as sns\n",
    "\n",
    "import numpy as np\n",
    "import numpy.linalg as LA\n",
    "\n",
    "import networkx as nx"
   ]
  },
  {
   "cell_type": "markdown",
   "metadata": {},
   "source": [
    "# Problem 1"
   ]
  },
  {
   "cell_type": "markdown",
   "metadata": {},
   "source": [
    "## 1.1\n",
    "\n",
    "### 1.1.1"
   ]
  },
  {
   "cell_type": "code",
   "execution_count": 2,
   "metadata": {
    "collapsed": false
   },
   "outputs": [
    {
     "data": {
      "text/plain": [
       "array([[0, 1, 1, 1, 0, 0],\n",
       "       [1, 0, 1, 0, 1, 0],\n",
       "       [1, 1, 0, 0, 0, 1],\n",
       "       [1, 0, 0, 0, 1, 1],\n",
       "       [0, 1, 0, 1, 0, 1],\n",
       "       [0, 0, 1, 1, 1, 0]], dtype=int32)"
      ]
     },
     "execution_count": 2,
     "metadata": {},
     "output_type": "execute_result"
    }
   ],
   "source": [
    "adj = np.array([\n",
    "    [0, 1, 1, 1, 0, 0],\n",
    "    [1, 0, 1, 0, 1, 0],\n",
    "    [1, 1, 0, 0, 0, 1],\n",
    "    [1, 0, 0, 0, 1, 1],\n",
    "    [0, 1, 0, 1, 0, 1],\n",
    "    [0, 0, 1, 1, 1, 0]], dtype='i')\n",
    "adj"
   ]
  },
  {
   "cell_type": "markdown",
   "metadata": {},
   "source": [
    "Using networkx to draw the graph:"
   ]
  },
  {
   "cell_type": "code",
   "execution_count": 3,
   "metadata": {
    "collapsed": false
   },
   "outputs": [
    {
     "data": {
      "image/png": "[encoded data removed]",
      "text/plain": [
       "<matplotlib.figure.Figure at 0x7f0b9859d198>"
      ]
     },
     "metadata": {},
     "output_type": "display_data"
    }
   ],
   "source": [
    "plt.axis(\"off\")\n",
    "g = nx.Graph(adj)\n",
    "pos = {\n",
    "  0: (0, 1),\n",
    "  1: (0, 0),\n",
    "  2: (.33, .5),\n",
    "  3: (1, 1),\n",
    "  4: (1, 0),\n",
    "  5: (.66, .5)\n",
    "}\n",
    "nx.draw_networkx(g, pos=pos,\n",
    "        labels={k:k+1 for k in range(len(adj))},\n",
    "        node_size=2000, font_size=32,\n",
    "        node_color=\"white\",\n",
    "        )"
   ]
  },
  {
   "cell_type": "markdown",
   "metadata": {},
   "source": [
    "### 1.1.2"
   ]
  },
  {
   "cell_type": "code",
   "execution_count": 4,
   "metadata": {
    "collapsed": false
   },
   "outputs": [],
   "source": [
    "m = len(g.edges())\n",
    "k = np.array(list(nx.degree(g).values()), dtype=\"i\")\n",
    "B = adj - (np.outer(k, k.T) / (2 * m))"
   ]
  },
  {
   "cell_type": "code",
   "execution_count": 5,
   "metadata": {
    "collapsed": false
   },
   "outputs": [
    {
     "data": {
      "text/plain": [
       "array([[-0.5,  0.5,  0.5,  0.5, -0.5, -0.5],\n",
       "       [ 0.5, -0.5,  0.5, -0.5,  0.5, -0.5],\n",
       "       [ 0.5,  0.5, -0.5, -0.5, -0.5,  0.5],\n",
       "       [ 0.5, -0.5, -0.5, -0.5,  0.5,  0.5],\n",
       "       [-0.5,  0.5, -0.5,  0.5, -0.5,  0.5],\n",
       "       [-0.5, -0.5,  0.5,  0.5,  0.5, -0.5]])"
      ]
     },
     "execution_count": 5,
     "metadata": {},
     "output_type": "execute_result"
    }
   ],
   "source": [
    "B"
   ]
  },
  {
   "cell_type": "markdown",
   "metadata": {},
   "source": [
    "### 1.1.3"
   ]
  },
  {
   "cell_type": "code",
   "execution_count": 6,
   "metadata": {
    "collapsed": false
   },
   "outputs": [
    {
     "data": {
      "text/plain": [
       "array([  1.00000000e+00,   5.55111512e-17,  -2.00000000e+00,\n",
       "        -2.00000000e+00,   6.20421327e-18,  -2.42376661e-16])"
      ]
     },
     "execution_count": 6,
     "metadata": {},
     "output_type": "execute_result"
    }
   ],
   "source": [
    "e_val, e_vec = LA.eig(B)\n",
    "e_val"
   ]
  },
  {
   "cell_type": "markdown",
   "metadata": {},
   "source": [
    "### 1.1.4"
   ]
  },
  {
   "cell_type": "code",
   "execution_count": 7,
   "metadata": {
    "collapsed": false
   },
   "outputs": [
    {
     "data": {
      "text/plain": [
       "1.0"
      ]
     },
     "execution_count": 7,
     "metadata": {},
     "output_type": "execute_result"
    }
   ],
   "source": [
    "largest_pos = np.argmax(e_val)\n",
    "np.round(e_val[largest_pos])"
   ]
  },
  {
   "cell_type": "code",
   "execution_count": 8,
   "metadata": {
    "collapsed": false
   },
   "outputs": [
    {
     "data": {
      "text/plain": [
       "array([ 0.40824829,  0.40824829,  0.40824829, -0.40824829, -0.40824829,\n",
       "       -0.40824829])"
      ]
     },
     "execution_count": 8,
     "metadata": {},
     "output_type": "execute_result"
    }
   ],
   "source": [
    "v = e_vec[:, largest_pos]\n",
    "v"
   ]
  },
  {
   "cell_type": "markdown",
   "metadata": {},
   "source": [
    "### 1.1.5\n",
    "\n",
    "The assignment looks reasonable. Here are the two communities:"
   ]
  },
  {
   "cell_type": "code",
   "execution_count": 9,
   "metadata": {
    "collapsed": false,
    "scrolled": true
   },
   "outputs": [
    {
     "data": {
      "image/png": "[encoded data removed]",
      "text/plain": [
       "<matplotlib.figure.Figure at 0x7f0b985c1e10>"
      ]
     },
     "metadata": {},
     "output_type": "display_data"
    }
   ],
   "source": [
    "communities = v > 0\n",
    "\n",
    "plt.axis(\"off\")\n",
    "nx.draw_networkx(g, pos=pos,\n",
    "        labels={k:k+1 for k in range(len(adj))},\n",
    "        node_size=2000, font_size=32,\n",
    "        node_color=communities,\n",
    "        font_color=\"white\",\n",
    "        cmap=matplotlib.cm.coolwarm\n",
    ")"
   ]
  },
  {
   "cell_type": "markdown",
   "metadata": {},
   "source": [
    "## 1.2\n",
    "\n",
    "### 1.2.1"
   ]
  },
  {
   "cell_type": "code",
   "execution_count": 10,
   "metadata": {
    "collapsed": false
   },
   "outputs": [
    {
     "data": {
      "text/plain": [
       "array([[0, 5, 0, 1],\n",
       "       [5, 0, 1, 0],\n",
       "       [0, 1, 0, 5],\n",
       "       [1, 0, 5, 0]])"
      ]
     },
     "execution_count": 10,
     "metadata": {},
     "output_type": "execute_result"
    }
   ],
   "source": [
    "adj = np.array([\n",
    "    [0, 5, 0, 1],\n",
    "    [5, 0, 1, 0],\n",
    "    [0, 1, 0, 5],\n",
    "    [1, 0, 5, 0]], dtype=int)\n",
    "adj"
   ]
  },
  {
   "cell_type": "markdown",
   "metadata": {},
   "source": [
    "Using networkx to draw the graph:"
   ]
  },
  {
   "cell_type": "code",
   "execution_count": 11,
   "metadata": {
    "collapsed": false
   },
   "outputs": [
    {
     "data": {
      "text/plain": [
       "<matplotlib.collections.LineCollection at 0x7f0b96166908>"
      ]
     },
     "execution_count": 11,
     "metadata": {},
     "output_type": "execute_result"
    },
    {
     "data": {
      "image/png": "[encoded data removed]",
      "text/plain": [
       "<matplotlib.figure.Figure at 0x7f0b962318d0>"
      ]
     },
     "metadata": {},
     "output_type": "display_data"
    }
   ],
   "source": [
    "plt.axis(\"off\")\n",
    "G = nx.from_numpy_matrix(adj)\n",
    "pos = {\n",
    "  0: (0, 1),\n",
    "  1: (0, 0),\n",
    "  2: (1, 0),\n",
    "  3: (1, 1),\n",
    "}\n",
    "\n",
    "elarge=[(u,v) for (u,v,d) in G.edges(data=True) if d['weight'] == 5]\n",
    "esmall=[(u,v) for (u,v,d) in G.edges(data=True) if d['weight'] == 1]\n",
    "\n",
    "# nodes\n",
    "nx.draw_networkx_nodes(G, pos, node_size=2000, \n",
    "                       node_color=\"white\")\n",
    "nx.draw_networkx_labels(G, pos,\n",
    "        labels={k:k+1 for k in range(len(G))},\n",
    "         font_size=32)\n",
    "\n",
    "# edges\n",
    "nx.draw_networkx_edges(G,pos,edgelist=elarge,\n",
    "                    width=15)\n",
    "nx.draw_networkx_edges(G,pos,edgelist=esmall,\n",
    "                    width=3)"
   ]
  },
  {
   "cell_type": "markdown",
   "metadata": {},
   "source": [
    "### 1.2.2"
   ]
  },
  {
   "cell_type": "code",
   "execution_count": 12,
   "metadata": {
    "collapsed": false
   },
   "outputs": [
    {
     "data": {
      "text/plain": [
       "12.0"
      ]
     },
     "execution_count": 12,
     "metadata": {},
     "output_type": "execute_result"
    }
   ],
   "source": [
    "m = np.sum(adj) / 2\n",
    "m"
   ]
  },
  {
   "cell_type": "markdown",
   "metadata": {},
   "source": [
    "### 1.2.3"
   ]
  },
  {
   "cell_type": "code",
   "execution_count": 13,
   "metadata": {
    "collapsed": false
   },
   "outputs": [
    {
     "data": {
      "text/plain": [
       "array([6, 6, 6, 6])"
      ]
     },
     "execution_count": 13,
     "metadata": {},
     "output_type": "execute_result"
    }
   ],
   "source": [
    "k = np.sum(adj, axis=1)\n",
    "k"
   ]
  },
  {
   "cell_type": "code",
   "execution_count": 14,
   "metadata": {
    "collapsed": false
   },
   "outputs": [
    {
     "data": {
      "text/plain": [
       "array([[-1.5,  3.5, -1.5, -0.5],\n",
       "       [ 3.5, -1.5, -0.5, -1.5],\n",
       "       [-1.5, -0.5, -1.5,  3.5],\n",
       "       [-0.5, -1.5,  3.5, -1.5]])"
      ]
     },
     "execution_count": 14,
     "metadata": {},
     "output_type": "execute_result"
    }
   ],
   "source": [
    "B = adj - (k * k.T) / (2 * m)\n",
    "B"
   ]
  },
  {
   "cell_type": "markdown",
   "metadata": {},
   "source": [
    "### 1.2.4"
   ]
  },
  {
   "cell_type": "code",
   "execution_count": 15,
   "metadata": {
    "collapsed": false
   },
   "outputs": [
    {
     "data": {
      "text/plain": [
       "array([  4.00000000e+00,   1.03541307e-17,  -6.00000000e+00,\n",
       "        -4.00000000e+00])"
      ]
     },
     "execution_count": 15,
     "metadata": {},
     "output_type": "execute_result"
    }
   ],
   "source": [
    "e_val, e_vec = LA.eig(B)\n",
    "e_val"
   ]
  },
  {
   "cell_type": "markdown",
   "metadata": {},
   "source": [
    "### 1.2.5"
   ]
  },
  {
   "cell_type": "code",
   "execution_count": 16,
   "metadata": {
    "collapsed": false
   },
   "outputs": [
    {
     "data": {
      "text/plain": [
       "4.0"
      ]
     },
     "execution_count": 16,
     "metadata": {},
     "output_type": "execute_result"
    }
   ],
   "source": [
    "largest_pos = np.argmax(e_val)\n",
    "np.round(e_val[largest_pos])"
   ]
  },
  {
   "cell_type": "code",
   "execution_count": 17,
   "metadata": {
    "collapsed": false
   },
   "outputs": [
    {
     "data": {
      "text/plain": [
       "array([ 0.5,  0.5, -0.5, -0.5])"
      ]
     },
     "execution_count": 17,
     "metadata": {},
     "output_type": "execute_result"
    }
   ],
   "source": [
    "v = e_vec[:, largest_pos]\n",
    "v"
   ]
  },
  {
   "cell_type": "markdown",
   "metadata": {},
   "source": [
    "### 1.2.6"
   ]
  },
  {
   "cell_type": "code",
   "execution_count": 18,
   "metadata": {
    "collapsed": false,
    "scrolled": true
   },
   "outputs": [
    {
     "data": {
      "text/plain": [
       "<matplotlib.collections.LineCollection at 0x7f0b960dd128>"
      ]
     },
     "execution_count": 18,
     "metadata": {},
     "output_type": "execute_result"
    },
    {
     "data": {
      "image/png": "[encoded data removed]",
      "text/plain": [
       "<matplotlib.figure.Figure at 0x7f0b9618af28>"
      ]
     },
     "metadata": {},
     "output_type": "display_data"
    }
   ],
   "source": [
    "communities = v > 0\n",
    "\n",
    "plt.axis(\"off\")\n",
    "elarge=[(u,v) for (u,v,d) in G.edges(data=True) if d['weight'] == 5]\n",
    "esmall=[(u,v) for (u,v,d) in G.edges(data=True) if d['weight'] == 1]\n",
    "\n",
    "# nodes\n",
    "nx.draw_networkx_nodes(G, pos, node_size=2000, \n",
    "                       node_color=communities,\n",
    "                       cmap=matplotlib.cm.coolwarm)\n",
    "nx.draw_networkx_labels(G, pos,\n",
    "        labels={k:k+1 for k in range(len(G))},\n",
    "        font_size=32,\n",
    "        font_color=\"white\")\n",
    "\n",
    "# edges\n",
    "nx.draw_networkx_edges(G,pos,edgelist=elarge,\n",
    "                    width=15)\n",
    "nx.draw_networkx_edges(G,pos,edgelist=esmall,\n",
    "                    width=3)"
   ]
  },
  {
   "cell_type": "markdown",
   "metadata": {},
   "source": [
    "# Problem 2\n",
    "\n",
    "## 2.1\n",
    "\n",
    "In the user optimal behavior, the expected travel time is 1 hour (all the flow will be through the second road).\n",
    "Since $x_1 = 1 - x_2$, we can parameterize the expected travel time per car as $\\tau(x_2) = (1 - x_2) 1 + x_2 (0.25 + 0.75 x_2) = 0.75 x_2^2 - 0.75 x_2 + 1$"
   ]
  },
  {
   "cell_type": "code",
   "execution_count": 19,
   "metadata": {
    "collapsed": false
   },
   "outputs": [
    {
     "data": {
      "text/plain": [
       "1.0"
      ]
     },
     "execution_count": 19,
     "metadata": {},
     "output_type": "execute_result"
    }
   ],
   "source": [
    "def T_1(x1):\n",
    "    return 1\n",
    "\n",
    "def T_2(x2):\n",
    "    return .25 + .75 * x2\n",
    "\n",
    "def τ(x2):\n",
    "    return .75 * x2 ** 2 - .75 * x2 + 1\n",
    "\n",
    "τ(1)"
   ]
  },
  {
   "cell_type": "markdown",
   "metadata": {},
   "source": [
    "## 2.2"
   ]
  },
  {
   "cell_type": "code",
   "execution_count": 20,
   "metadata": {
    "collapsed": false
   },
   "outputs": [
    {
     "data": {
      "text/plain": [
       "<matplotlib.legend.Legend at 0x7f0b960ce9b0>"
      ]
     },
     "execution_count": 20,
     "metadata": {},
     "output_type": "execute_result"
    },
    {
     "data": {
      "image/png": "[encoded data removed]",
      "text/plain": [
       "<matplotlib.figure.Figure at 0x7f0b960f1e48>"
      ]
     },
     "metadata": {},
     "output_type": "display_data"
    }
   ],
   "source": [
    "delta = 0.001\n",
    "plt.plot(np.arange(0, 1, delta),\n",
    "         [τ(x2) for x2 in np.arange(0, 1, delta)],\n",
    "         label=\"Average travel time\")\n",
    "plt.plot(np.arange(0, 1, delta),\n",
    "         1 - np.arange(0, 1, delta), '--',\n",
    "         label=\"$x_1$\")\n",
    "plt.plot(np.arange(0, 1, delta),\n",
    "         np.arange(0, 1, delta), '--',\n",
    "         label=\"$x_2$\")\n",
    "plt.vlines(.5, 0, τ(.5), linestyle=\"--\", label=\"minimum ($x_2=x_1=.5$)\")\n",
    "plt.legend(loc=\"best\")"
   ]
  },
  {
   "cell_type": "markdown",
   "metadata": {
    "collapsed": true
   },
   "source": [
    "The flow is optimized when $x_1 = x_2 = .5$\n",
    "\n",
    "Another way to calculate, instead of through graphical solving, is to calculate the first derivative and find where it is zero:\n",
    "\n",
    "$\\tau \\prime(x_2) = 1.5x - 0.75$\n",
    "\n",
    "$0 = 1.5x - 0.75$\n",
    "\n",
    "$1.5x = 0.75$\n",
    "\n",
    "$x = .5$\n",
    "\n",
    "## 2.3\n",
    "\n",
    "$\\tau_m = \\tau(0.5) = 0.8125$"
   ]
  },
  {
   "cell_type": "code",
   "execution_count": 21,
   "metadata": {
    "collapsed": false
   },
   "outputs": [
    {
     "data": {
      "text/plain": [
       "0.8125"
      ]
     },
     "execution_count": 21,
     "metadata": {},
     "output_type": "execute_result"
    }
   ],
   "source": [
    "τ(.5)"
   ]
  },
  {
   "cell_type": "code",
   "execution_count": 22,
   "metadata": {
    "collapsed": false
   },
   "outputs": [
    {
     "data": {
      "text/plain": [
       "0.8125"
      ]
     },
     "execution_count": 22,
     "metadata": {},
     "output_type": "execute_result"
    }
   ],
   "source": [
    "np.min([τ(x2) for x2 in np.arange(0, 1, delta)])"
   ]
  }
 ],
 "metadata": {
  "kernelspec": {
   "display_name": "Python 3",
   "language": "python",
   "name": "python3"
  },
  "language_info": {
   "codemirror_mode": {
    "name": "ipython",
    "version": 3
   },
   "file_extension": ".py",
   "mimetype": "text/x-python",
   "name": "python",
   "nbconvert_exporter": "python",
   "pygments_lexer": "ipython3",
   "version": "3.5.1"
  }
 },
 "nbformat": 4,
 "nbformat_minor": 0
}
